{
 "cells": [
  {
   "cell_type": "code",
   "execution_count": 22,
   "metadata": {},
   "outputs": [],
   "source": [
    "from cProfile import label\n",
    "from cmath import exp, pi\n",
    "from numpy import tan, sin, sqrt,cos,arctan,arcsin,arccos\n",
    "from re import A\n",
    "import matplotlib.pyplot as plt\n",
    "from scipy.optimize import curve_fit\n",
    "import numpy as npy\n",
    "from scipy.signal import savgol_filter\n",
    "from matplotlib.pyplot import MultipleLocator\n",
    "from iminuit import Minuit\n",
    "from matplotlib import cm\n",
    "import iminuit\n",
    "from iminuit.cost import LeastSquares\n",
    "# import latex\n",
    "# plt.style.reload_library()\n",
    "plt.style.use(['science'])\n",
    "# plt.style.use(['science','ieee'])\n",
    "# plt.style.use(['science','no-latex'])"
   ]
  },
  {
   "cell_type": "code",
   "execution_count": 23,
   "metadata": {},
   "outputs": [],
   "source": [
    "\n",
    "def calculate_index(phi,delta):\n",
    "    phi=float(phi*pi/180)\n",
    "    delta=float(delta*pi/180)\n",
    "    anglei=63/180*pi\n",
    "    rho=tan(phi)*exp(delta*1j)\n",
    "    n1=1.\n",
    "    # print('rho',rho)\n",
    "    epsilon= (n1**2) * (sin(anglei)**2) * ( 1+(tan(anglei)**2)*((1-rho)/(1+rho))**2) \n",
    "    ep_re=epsilon.real\n",
    "    ep_im=epsilon.imag\n",
    "    n2=(1./sqrt(2.) * sqrt( sqrt(ep_re**2+ep_im**2) +ep_re)).real\n",
    "    k2=(1./sqrt(2.) * sqrt( sqrt(ep_re**2+ep_im**2) -ep_re)).real\n",
    "    return n2,k2\n",
    "\n",
    "            \n",
    "def Fun(x,a0,a1,a2,k,b): #define fit function\n",
    "    phi=k*x+b\n",
    "    # return a0+a1*npy.cos(2*phi)\n",
    "    return a0+a1*npy.cos(2*phi)+ a2*npy.sin(2*phi)\n",
    "\n",
    "As=2.312\n",
    "Ps=2.241\n",
    "anglei=63/180*pi\n",
    "# anglei=65/180*pi\n",
    "\n",
    "def intensity_fun(A,alpha,beta): #define fit function\n",
    "    A=A-As\n",
    "    # return a0+a1*npy.cos(2*phi)\n",
    "    return 1+alpha*npy.cos(2*A)+ beta*npy.sin(2*A)\n",
    "\n",
    "def calculate_tanphi_cosdelta(n,k,anglei1):\n",
    "    \n",
    "    n1=1\n",
    "    n2=n+k*1j\n",
    "    anglei2=arcsin(n1*sin(anglei1)/n2 )\n",
    "    rp=tan(anglei1-anglei2)/tan(anglei1+anglei2)\n",
    "    rs=sin(anglei2-anglei1)/sin(anglei2+anglei1)\n",
    "    rho=rp/rs\n",
    "    tanphi=npy.abs(rho)\n",
    "    delta=npy.arccos(rho.imag/rho.real)\n",
    "    return tanphi,delta\n",
    "\n",
    "def calculate_alpha_beta(tanphi,delta,P):\n",
    "    P=P\n",
    "    alpha=(tanphi**2-tan(P)**2)/(tanphi**2+tan(P)**2)\n",
    "    beta=2*tanphi*cos(delta)*tan(P)/(tanphi**2+tan(P)**2)\n",
    "    return alpha,beta\n",
    "\n",
    "def ntointensity_max(n,k,anglei1,P):\n",
    "    n1=1\n",
    "    n2=n+k*1j\n",
    "    anglei2=arcsin(n1*sin(anglei1)/n2 )\n",
    "    rp=tan(anglei1-anglei2)/tan(anglei1+anglei2)\n",
    "    rs=sin(anglei2-anglei1)/sin(anglei2+anglei1)\n",
    "    rho=rp/rs\n",
    "    tanphi=npy.abs(rho)\n",
    "    delta=npy.arccos(rho.imag/rho.real)\n",
    "    alpha=(tanphi**2-tan(P)**2)/(tanphi**2+tan(P)**2)\n",
    "    beta=2*tanphi*cos(delta)*tan(P)/(tanphi**2+tan(P)**2)\n",
    "    return 1+alpha\n",
    "def intensity_max_change(n,k,anglei1,P):\n",
    "    h=0.001\n",
    "    sensi=0\n",
    "    for i in range(6):\n",
    "        max=ntointensity_max(n+i*+h,k,anglei1,P)\n",
    "        min=ntointensity_max(n+i-h,k,anglei1,P)\n",
    "        sensi+=abs(max-min)/(2*h)\n",
    "    return sensi/6\n"
   ]
  },
  {
   "cell_type": "code",
   "execution_count": 36,
   "metadata": {},
   "outputs": [
    {
     "data": {
      "text/plain": [
       "<matplotlib.legend.Legend at 0x1da34f2b400>"
      ]
     },
     "execution_count": 36,
     "metadata": {},
     "output_type": "execute_result"
    },
    {
     "data": {
      "image/png": "[encoded data removed]",
      "text/plain": [
       "<Figure size 252x189 with 1 Axes>"
      ]
     },
     "metadata": {
      "needs_background": "light"
     },
     "output_type": "display_data"
    }
   ],
   "source": [
    "n_input=[(n*0.03+1.3) for n in range(10) ]\n",
    "k_input=[0]*20\n",
    "P=npy.array([pi/180*i for i in range(15)])\n",
    "A=[pi/360*i for i in range(360)]\n",
    "A=npy.array(A)\n",
    "\n",
    "\n",
    "fig1,ax1=plt.subplots()\n",
    "for j in range(15):\n",
    "    fig,ax = plt.subplots()\n",
    "    alpha_input=[]\n",
    "    beta_input=[]\n",
    "    for i in range(10):\n",
    "        tanphi,delta=calculate_tanphi_cosdelta(n_input[i],k_input[i],anglei)\n",
    "        alpha,beta=calculate_alpha_beta(tanphi,delta,P[j])\n",
    "        alpha_input.append(alpha)\n",
    "        beta_input.append(beta)\n",
    "        ax.plot(A,intensity_fun(A,alpha,beta),label='n='+str(round(n_input[i],2)),linewidth=0.7 )\n",
    "    ax.set_xlabel('Angle A')\n",
    "    ax.set_ylabel('Intensity')\n",
    "    ax.set_xlabel('n')\n",
    "\n",
    "    ax1.plot(n_input,alpha_input,label=\"P=\"+str(round(P[j]*180/pi,0)))\n",
    "\n",
    "    fig.legend(bbox_to_anchor=(0.95, 0.7), loc=2, borderaxespad=0)\n",
    "    fig.patch.set_facecolor('white')\n",
    "    fig.savefig('figure_I63/intensity_PreP'+str(round(P[j]/pi*180,1))+'.png',dpi=1000)\n",
    "    plt.close()\n",
    "\n",
    "    fig,ax = plt.subplots(2,1,sharex=True)\n",
    "    ax[1].plot(n_input,alpha_input,label=\"$\\\\alpha$\")\n",
    "    ax[0].plot(n_input,beta_input,label=\"$\\\\beta$\")\n",
    "    ax[1].set_xlabel('Wave length (nm)')\n",
    "    fig.legend(bbox_to_anchor=(0.95, 0.7), loc=2, borderaxespad=0)\n",
    "    fig.patch.set_facecolor('white')\n",
    "    # fig.savefig('figure_I63/alphabeta_PreP'+str(round(P[j]/pi*180,1))+'.png',dpi=1000)\n",
    "    plt.close()\n",
    "# ax1.legend()\n",
    "# ax1.set_title(\"$\\alpha$\")\n",
    "# fig1.patch.set_facecolor('white')\n",
    "fig1.legend(bbox_to_anchor=(0.95, 1), loc=2, borderaxespad=0)\n"
   ]
  },
  {
   "cell_type": "code",
   "execution_count": 32,
   "metadata": {},
   "outputs": [],
   "source": [
    "\n",
    "# ax1.set_title(\"$\\alpha$\")\n",
    "# fig1.legend(bbox_to_anchor=(0.95, 0.7), loc=1, borderaxespad=0)\n",
    "# ax1.legend()\n",
    "# fig1.patch.set_facecolor('white')\n",
    "# fig1.savefig('alpha.png',dpi=1000)\n",
    "# fig1.savefig('figure_I63/alpha.png',dpi=1000)\n"
   ]
  },
  {
   "cell_type": "code",
   "execution_count": 38,
   "metadata": {},
   "outputs": [
    {
     "data": {
      "image/png": "[encoded data removed]",
      "text/plain": [
       "<Figure size 252x189 with 1 Axes>"
      ]
     },
     "metadata": {},
     "output_type": "display_data"
    },
    {
     "data": {
      "image/png": "[encoded data removed]",
      "text/plain": [
       "<Figure size 252x189 with 2 Axes>"
      ]
     },
     "metadata": {
      "needs_background": "light"
     },
     "output_type": "display_data"
    }
   ],
   "source": [
    "# A=[pi/360*i for i in range(360)]\n",
    "# P=[pi/180*i for i in range(180)]\n",
    "P=[pi/180*i for i in range(180)]\n",
    "anglei_input=[pi/180*(i+60) for i in range(8)]\n",
    "# anglei_input=[pi/180*(i+30) for i in range(50)]\n",
    "P=npy.array(P)\n",
    "ap=P/pi*180\n",
    "sensitivity=intensity_max_change(1.3,0,anglei,P)\n",
    "fig,ax=plt.subplots()\n",
    "ax.plot(ap,sensitivity,label='Sensitivity')\n",
    "# ax.legend()\n",
    "ax.set_xlabel(\"P (Deg.)\")\n",
    "ax.set_ylabel('Sensitivity')\n",
    "ax.set_title('Sensitivity at an incident Angle of 63 degrees')\n",
    "fig.patch.set_facecolor('white')\n",
    "fig.savefig('figure_I63/sensitivityVsP.png',dpi=1000)\n",
    "ax.set_xlim(0,40 )\n",
    "fig.savefig('figure_I63/sensitivityVsP_enlarge.png',dpi=1000)\n",
    "\n",
    "\n",
    "n_input=npy.array(n_input)\n",
    "anglei_input=npy.array(anglei_input)\n",
    "ai=anglei_input/pi*180\n",
    "ai,ap=npy.meshgrid(ai,ap )\n",
    "anglei_input,P=npy.meshgrid(anglei_input, P)\n",
    "# maxintensity=ntointensity_max(1.3,0,anglei_input,P)\n",
    "maxintensity=intensity_max_change(1.3,0,anglei_input,P)\n",
    "fig,ax=plt.subplots()\n",
    "# cset1 = ax.contourf(ai,ap, maxintensity) \n",
    "cset1 = ax.contourf(ai,ap, maxintensity,cmap=cm.jet) \n",
    "ax.set_xlabel('Angle of incidence')\n",
    "ax.set_ylabel('Angle P')\n",
    "ax.set_title('Sensitivity')\n",
    "cbar = fig.colorbar(cset1)\n",
    "plt.show()\n",
    "fig.patch.set_facecolor('white')\n",
    "# fig.savefig('figure_pre/find_p_anglei_65Deg.png',dpi=1000)\n",
    "fig.savefig('figure_pre/find_p_anglei.png',dpi=1000)\n",
    "# ax.set_xlim(64,66)\n",
    "# ax.set_xlim(45,65)\n",
    "# ax.set_ylim(0,15)\n",
    "# # fig.savefig('figure_pre/find_p_anglei_65Deg_enlarge.png',dpi=1000)\n",
    "# fig.savefig('figure_pre/find_p_anglei_enlarge.png',dpi=1000)"
   ]
  },
  {
   "cell_type": "code",
   "execution_count": null,
   "metadata": {},
   "outputs": [],
   "source": [
    "\n",
    "\n"
   ]
  },
  {
   "cell_type": "code",
   "execution_count": 27,
   "metadata": {},
   "outputs": [
    {
     "name": "stdout",
     "output_type": "stream",
     "text": [
      "128.3998418888175\n"
     ]
    }
   ],
   "source": [
    "print(2.241/pi*180)"
   ]
  }
 ],
 "metadata": {
  "interpreter": {
   "hash": "e489308f240930053fdc748a0151acbc65137e27fd86fc286e52f1f58ae69a29"
  },
  "kernelspec": {
   "display_name": "Python 3.9.2 64-bit",
   "language": "python",
   "name": "python3"
  },
  "language_info": {
   "codemirror_mode": {
    "name": "ipython",
    "version": 3
   },
   "file_extension": ".py",
   "mimetype": "text/x-python",
   "name": "python",
   "nbconvert_exporter": "python",
   "pygments_lexer": "ipython3",
   "version": "3.9.2"
  },
  "orig_nbformat": 4
 },
 "nbformat": 4,
 "nbformat_minor": 2
}
