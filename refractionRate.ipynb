{
 "cells": [
  {
   "cell_type": "code",
   "execution_count": 2,
   "metadata": {},
   "outputs": [],
   "source": [
    "import numpy as npy\n",
    "import scipy.optimize as opt\n",
    "import matplotlib.pyplot as plt\n",
    "\n",
    "class currentProfile:\n",
    "    def __init__(self, label):\n",
    "        self.label=label\n",
    "        self.current=[]\n",
    "\n",
    "def dataReader(filename, label):\n",
    "    inputfile=open(filename,'r')\n",
    "    outputData=currentProfile(label)\n",
    "    currentData=[]\n",
    "    while(1):\n",
    "        try:\n",
    "            temp=next(inputfile).split()\n",
    "            if(temp[4]==str(label)):\n",
    "                outputData.current.append(1e6*float(temp[2]))\n",
    "        except StopIteration:\n",
    "            outputData.current=npy.array(outputData.current)\n",
    "            break\n",
    "    return outputData\n",
    "\n",
    "def fitFunc(time, alpha, beta, omega):\n",
    "    return 1+alpha*npy.cos(omega*time)+beta*npy.sin(omega*time)"
   ]
  },
  {
   "cell_type": "code",
   "execution_count": 3,
   "metadata": {},
   "outputs": [],
   "source": [
    "length=73\n",
    "angles=[2.5*i/180*npy.pi for i in range(length)]\n",
    "measurements=[]\n",
    "monitors=[]\n",
    "\n",
    "for i in range(length):\n",
    "    measurements.append(dataReader(\"data/measurement.txt\",int(2*2.5*i)))\n",
    "    monitors.append(dataReader(\"data/monitor.txt\",int(2*2.5*i)))"
   ]
  },
  {
   "cell_type": "code",
   "execution_count": 4,
   "metadata": {},
   "outputs": [],
   "source": [
    "ratios=[]\n",
    "fitParameters=[]\n",
    "fitParametersCOV=[]\n",
    "for i in range(length):\n",
    "    minLength=720\n",
    "    ratios.append(measurements[i].current[:minLength]/monitors[i].current[:minLength])\n",
    "    time=npy.array([0.5*j for j in range(minLength)])\n",
    "    popt,pcov=opt.curve_fit(fitFunc, time, ratios[i], p0=[5,5,0.07])\n",
    "    fitParameters.append(popt)\n",
    "    fitParametersCOV.append(pcov)\n",
    "    fitRatio=fitFunc(time,*popt)\n",
    "    # fig,axs=plt.subplots(2,1)\n",
    "    # axs[0].plot(time,ratios[i],label=\"Intensity\")\n",
    "    # axs[0].plot(time,fitRatio,label=\"Fitted\")\n",
    "    # axs[1].plot(time,(ratios[i]-fitRatio)/ratios[i],label=\"Residual\")\n",
    "    # axs[1].set_xlabel(\"Time (s)\")\n",
    "    # axs[0].set_ylabel(\"Intensity\")\n",
    "    # axs[1].set_ylabel(\"Residual\")\n",
    "    # axs[0].legend()\n",
    "    # axs[1].legend()\n",
    "    # fig.tight_layout()\n",
    "    # fig.savefig(\"figure/RatioVsTime\"+str(2.5*i)+\"degree.jpg\")\n",
    "    # plt.close()"
   ]
  },
  {
   "cell_type": "code",
   "execution_count": 5,
   "metadata": {},
   "outputs": [],
   "source": [
    "def alphaCurve(P, Ps, As, tanPsi, cosDelta, eta):\n",
    "    alphaReal=(tanPsi**2 -npy.tan(P-Ps)**2) / (tanPsi**2 +npy.tan(P-Ps)**2)\n",
    "    betaReal=(2 * tanPsi * cosDelta * npy.tan(P-Ps)) / (tanPsi**2 +npy.tan(P-Ps)**2)\n",
    "    return (alphaReal*npy.cos(2*As)-betaReal*npy.sin(2*As))/eta\n",
    "\n",
    "def betaCurve(P, Ps, As, tanPsi, cosDelta, eta):\n",
    "    alphaReal=(tanPsi**2 -npy.tan(P-Ps)**2) / (tanPsi**2 +npy.tan(P-Ps)**2)\n",
    "    betaReal=(2 * tanPsi * cosDelta * npy.tan(P-Ps)) / (tanPsi**2 +npy.tan(P-Ps)**2)\n",
    "    return (alphaReal*npy.sin(2*As)+betaReal*npy.cos(2*As))/eta\n",
    "\n",
    "def residualCurve(P, Ps, As, tanPsi, cosDelta, eta):\n",
    "    return 1-alphaCurve(P, Ps, As, tanPsi, cosDelta, eta)**2-betaCurve(P, Ps, As, tanPsi, cosDelta, eta)**2\n",
    "\n",
    "def refractionRate(tanPsi, cosDelta):\n",
    "    rho=tanPsi*(cosDelta+1j*npy.sqrt(1-cosDelta**2))\n",
    "    return npy.sin(65.0/180.0*npy.pi)**2+(npy.cos(65.0/180.0*npy.pi)**2)*((1-rho)/(1+rho))**2\n"
   ]
  },
  {
   "cell_type": "code",
   "execution_count": 6,
   "metadata": {},
   "outputs": [
    {
     "name": "stdout",
     "output_type": "stream",
     "text": [
      "(Ps, As, tanPsi, cosDelta, eta)[ 2.23898694  2.30641748  0.54321732 -0.93990985  0.15637178] n=(1.6766115873209886-1.2447036918407546j)\n",
      "(Ps, As, tanPsi, cosDelta, eta)[ 2.20470021  2.35263826  0.59586065 -0.92378008  0.12236897] n=(1.3957050835401845-1.6274951279599188j)\n",
      "(Ps, As, tanPsi, cosDelta, eta)[ 2.21423186  2.13718646  0.66674942 -0.76185644  0.12382333] n=(0.3959860258880249-0.9328675378212803j)\n"
     ]
    }
   ],
   "source": [
    "alpha=[]\n",
    "alphaError=[]\n",
    "beta=[]\n",
    "betaError=[]\n",
    "residualError=[]\n",
    "partLength=58\n",
    "for i in range(length):\n",
    "    alpha.append(fitParameters[i][0])\n",
    "    beta.append(fitParameters[i][1])\n",
    "    alphaError.append(npy.sqrt(fitParametersCOV[i][0,0]))\n",
    "    betaError.append(npy.sqrt(fitParametersCOV[i][1,1]))\n",
    "    residualError.append(2*npy.sqrt(fitParametersCOV[i][0,0]*(fitParameters[i][0])**2+fitParametersCOV[i][1,1]*(fitParameters[i][1])**2))\n",
    "\n",
    "anglesFinal=npy.array(angles[:partLength])\n",
    "alpha=npy.array(alpha[:partLength])\n",
    "beta=npy.array(beta[:partLength])\n",
    "alphaError=npy.array(alphaError[:partLength])\n",
    "betaError=npy.array(betaError[:partLength])\n",
    "residualError=npy.array(residualError[:partLength])\n",
    "residual=1-alpha**2-beta**2\n",
    "\n",
    "# (P, Ps, As, tanPsi, cosDelta, eta)\n",
    "fig,axs=plt.subplots(3,1)\n",
    "axs[0].errorbar(anglesFinal,alpha,alphaError,label=\"alpha\")\n",
    "popt1,pcov=opt.curve_fit(alphaCurve, anglesFinal, alpha, p0=[0.1,0.1,1,0.1,0.5], sigma=alphaError, maxfev=10000000, bounds=([0,0, -1, -1, 0],[npy.pi,npy.pi, 1,1, 10]))\n",
    "axs[0].plot(anglesFinal,alphaCurve(anglesFinal, *popt1),label=\"Fit\")\n",
    "\n",
    "axs[1].errorbar(anglesFinal,beta,betaError,label=\"beta\")\n",
    "popt2,pcov=opt.curve_fit(betaCurve, anglesFinal, beta, p0=popt1, sigma=betaError, maxfev=10000000, bounds=([0,0, -1, -1, 0],[npy.pi,npy.pi, 1,1, 10]))\n",
    "axs[1].plot(anglesFinal,betaCurve(anglesFinal, *popt2),label=\"Fit\")\n",
    "\n",
    "axs[2].errorbar(anglesFinal,residual,residualError,label=\"residual\")\n",
    "popt3,pcov=opt.curve_fit(residualCurve, anglesFinal, residual, p0=popt2, sigma=residualError, maxfev=10000000, bounds=([0,0, -1, -1, 0],[npy.pi,npy.pi, 1,1, 10]))\n",
    "axs[2].plot(anglesFinal,residualCurve(anglesFinal, *popt3),label=\"Fit\")\n",
    "\n",
    "# axs[1].plot(angles,(ratios[i]-fitRatio)/ratios[i],label=\"Residual\")\n",
    "axs[2].set_xlabel(\"Angle\")\n",
    "axs[0].set_ylabel(\"alpha\")\n",
    "axs[1].set_ylabel(\"beta\")\n",
    "axs[2].set_ylabel(\"Residual\")\n",
    "axs[0].legend()\n",
    "axs[1].legend()\n",
    "axs[2].legend()\n",
    "fig.tight_layout()\n",
    "fig.savefig(\"figure/AlphaBeta.jpg\")\n",
    "plt.close()\n",
    "\n",
    "print(\"(Ps, As, tanPsi, cosDelta, eta)\"+str(popt1),\"n=\"+str(refractionRate(popt1[2],popt1[3])))\n",
    "print(\"(Ps, As, tanPsi, cosDelta, eta)\"+str(popt2),\"n=\"+str(refractionRate(popt2[2],popt2[3])))\n",
    "print(\"(Ps, As, tanPsi, cosDelta, eta)\"+str(popt3),\"n=\"+str(refractionRate(popt3[2],popt3[3])))\n"
   ]
  }
 ],
 "metadata": {
  "interpreter": {
   "hash": "d5c6095bff222ff9471ebd2aa4415b2b954bd4aaa025c1fc5586f3b2bb4f0c2e"
  },
  "kernelspec": {
   "display_name": "Python 3.8.10 64-bit",
   "language": "python",
   "name": "python3"
  },
  "language_info": {
   "codemirror_mode": {
    "name": "ipython",
    "version": 3
   },
   "file_extension": ".py",
   "mimetype": "text/x-python",
   "name": "python",
   "nbconvert_exporter": "python",
   "pygments_lexer": "ipython3",
   "version": "3.8.10"
  },
  "orig_nbformat": 4
 },
 "nbformat": 4,
 "nbformat_minor": 2
}
