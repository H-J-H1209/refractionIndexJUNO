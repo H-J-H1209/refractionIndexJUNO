{
 "cells": [
  {
   "cell_type": "code",
   "execution_count": 61,
   "metadata": {},
   "outputs": [],
   "source": [
    "import numpy as npy\n",
    "import scipy.optimize as opt\n",
    "import matplotlib.pyplot as plt\n",
    "\n",
    "class currentProfile:\n",
    "    def __init__(self, label):\n",
    "        self.label=label\n",
    "        self.current=[]\n",
    "\n",
    "def dataReader(filename, label):\n",
    "    inputfile=open(filename,'r')\n",
    "    outputData=currentProfile(label)\n",
    "    currentData=[]\n",
    "    while(1):\n",
    "        try:\n",
    "            temp=next(inputfile).split()\n",
    "            if(temp[4]==str(label)):\n",
    "                outputData.current.append(1e6*float(temp[2]))\n",
    "        except StopIteration:\n",
    "            outputData.current=npy.array(outputData.current)\n",
    "            break\n",
    "    return outputData\n",
    "\n",
    "def fitFunc(time, alpha, beta, omega, gamma):\n",
    "    return gamma*(1+alpha*npy.cos(2*omega*time)+beta*npy.sin(2*omega*time))"
   ]
  },
  {
   "cell_type": "code",
   "execution_count": 62,
   "metadata": {},
   "outputs": [],
   "source": [
    "length=73\n",
    "angles=[2.5*i/180*npy.pi for i in range(length)]\n",
    "measurements=[]\n",
    "monitors=[]\n",
    "\n",
    "for i in range(length):\n",
    "    measurements.append(dataReader(\"data/measurement.txt\",int(2*2.5*i)))\n",
    "    monitors.append(dataReader(\"data/monitor.txt\",int(2*2.5*i)))"
   ]
  },
  {
   "cell_type": "code",
   "execution_count": 63,
   "metadata": {},
   "outputs": [],
   "source": [
    "ratios=[]\n",
    "fitParameters=[]\n",
    "fitParametersCOV=[]\n",
    "for i in range(length):\n",
    "    minLength=720\n",
    "    ratios.append(measurements[i].current[:minLength]/monitors[i].current[:minLength])\n",
    "    time=npy.array([0.5*j for j in range(minLength)])\n",
    "    popt,pcov=opt.curve_fit(fitFunc, time, ratios[i], p0=[-0.5,0.5,0.035,9.5])\n",
    "    fitParameters.append(popt)\n",
    "    fitParametersCOV.append(pcov)\n",
    "    fitRatio=fitFunc(time,*popt)\n",
    "    fig,axs=plt.subplots(2,1)\n",
    "    axs[0].plot(time,ratios[i],label=\"Intensity\")\n",
    "    axs[0].plot(time,fitRatio,label=\"Fitted\")\n",
    "    axs[1].plot(time,(ratios[i]-fitRatio)/ratios[i],label=\"Residual\")\n",
    "    axs[1].set_xlabel(\"Time (s)\")\n",
    "    axs[0].set_ylabel(\"Intensity\")\n",
    "    axs[1].set_ylabel(\"Residual\")\n",
    "    axs[0].legend()\n",
    "    axs[1].legend()\n",
    "    fig.tight_layout()\n",
    "    fig.savefig(\"figure/RatioVsTime\"+str(2.5*i)+\"degree.jpg\")\n",
    "    plt.close()"
   ]
  },
  {
   "cell_type": "code",
   "execution_count": 64,
   "metadata": {},
   "outputs": [],
   "source": [
    "def alphaCurve(P, Ps, As, tanPsi, cosDelta, eta):\n",
    "    alphaReal = (tanPsi**2 - npy.tan(P-Ps)**2) / (tanPsi**2 + npy.tan(P-Ps)**2)\n",
    "    betaReal = (2 * tanPsi * cosDelta * npy.tan(P-Ps)) / \\\n",
    "        (tanPsi**2 + npy.tan(P-Ps)**2)\n",
    "    return (alphaReal*npy.cos(2*As)-betaReal*npy.sin(2*As))/eta\n",
    "\n",
    "\n",
    "def betaCurve(P, Ps, As, tanPsi, cosDelta, eta):\n",
    "    alphaReal = (tanPsi**2 - npy.tan(P-Ps)**2) / (tanPsi**2 + npy.tan(P-Ps)**2)\n",
    "    betaReal = (2 * tanPsi * cosDelta * npy.tan(P-Ps)) / \\\n",
    "        (tanPsi**2 + npy.tan(P-Ps)**2)\n",
    "    return (alphaReal*npy.sin(2*As)+betaReal*npy.cos(2*As))/eta\n",
    "\n",
    "\n",
    "def residualCurve(P, Ps, As, tanPsi, cosDelta, eta):\n",
    "    return 1-alphaCurve(P, Ps, As, tanPsi, cosDelta, eta)**2-betaCurve(P, Ps, As, tanPsi, cosDelta, eta)**2\n",
    "\n",
    "\n",
    "def fitCurve(P, Ps, As, tanPsi, cosDelta, eta):\n",
    "    length=int(len(P)/3)\n",
    "    P=P[:length]\n",
    "    return npy.append(alphaCurve(P, Ps, As, tanPsi, cosDelta, eta), npy.append(betaCurve(P, Ps, As, tanPsi, cosDelta, eta), residualCurve(P, Ps, As, tanPsi, cosDelta, eta)))\n",
    "\n",
    "\n",
    "def refractionRate(tanPsi, cosDelta):\n",
    "    rho = tanPsi*(cosDelta+1j*npy.sqrt(1-cosDelta**2))\n",
    "    return npy.sin(65.0/180.0*npy.pi)**2+(npy.cos(65.0/180.0*npy.pi)**2)*((1-rho)/(1+rho))**2\n"
   ]
  },
  {
   "cell_type": "code",
   "execution_count": 80,
   "metadata": {},
   "outputs": [
    {
     "name": "stdout",
     "output_type": "stream",
     "text": [
      "(Ps, As, tanPsi, cosDelta, eta) ['2.2385138986383066±0.0028254049480017263', '2.3141380074461915±0.002728902371004231', '0.9214506978751937±0.0031679760445601558', '-0.740889335009527±0.0025787866215321166', '1.138606930123005±0.0016891132796983293']\n",
      "n=(-0.33079908178387507-0.28523476784758134j)\n"
     ]
    }
   ],
   "source": [
    "alpha=[]\n",
    "alphaError=[]\n",
    "beta=[]\n",
    "betaError=[]\n",
    "residualError=[]\n",
    "partLength=58\n",
    "for i in range(length):\n",
    "    alpha.append(fitParameters[i][0])\n",
    "    beta.append(fitParameters[i][1])\n",
    "    alphaError.append(npy.sqrt(fitParametersCOV[i][0,0]))\n",
    "    betaError.append(npy.sqrt(fitParametersCOV[i][1,1]))\n",
    "    residualError.append(2*npy.sqrt(fitParametersCOV[i][0,0]*(fitParameters[i][0])**2+fitParametersCOV[i][1,1]*(fitParameters[i][1])**2))\n",
    "\n",
    "anglesFinal=npy.array(angles[:partLength])\n",
    "alpha=npy.array(alpha[:partLength])\n",
    "beta=npy.array(beta[:partLength])\n",
    "alphaError=npy.array(alphaError[:partLength])\n",
    "betaError=npy.array(betaError[:partLength])\n",
    "residualError=npy.array(residualError[:partLength])\n",
    "residual=1-alpha**2-beta**2\n",
    "\n",
    "# (P, Ps, As, tanPsi, cosDelta, eta)\n",
    "comboX=npy.append(anglesFinal,npy.append(anglesFinal,anglesFinal))\n",
    "comboY=npy.append(alpha,npy.append(beta,residual))\n",
    "\n",
    "popt1,pcov1=opt.curve_fit(fitCurve, comboX, comboY , p0=[2,2,0,0,1.25], maxfev=10000000)\n",
    "# popt2,pcov=opt.curve_fit(betaCurve, anglesFinal, beta, p0=popt1, sigma=betaError, maxfev=1000, bounds=([0,0, -1, -1, 0],[npy.pi,npy.pi, 1,1, 10]))\n",
    "# popt3,pcov=opt.curve_fit(residualCurve, anglesFinal, residual, p0=popt2, sigma=residualError, maxfev=1000, bounds=([0,0, -1, -1, 0],[npy.pi,npy.pi, 1,1, 10]))\n",
    "\n",
    "fig,axs=plt.subplots(3,1)\n",
    "axs[0].errorbar(anglesFinal,alpha,alphaError,label=\"alpha\")\n",
    "axs[0].plot(anglesFinal,alphaCurve(anglesFinal, *popt1),label=\"Fit\")\n",
    "\n",
    "axs[1].errorbar(anglesFinal,beta,betaError,label=\"beta\")\n",
    "axs[1].plot(anglesFinal,betaCurve(anglesFinal, *popt1),label=\"Fit\")\n",
    "\n",
    "axs[2].errorbar(anglesFinal,residual,residualError,label=\"residual\")\n",
    "axs[2].plot(anglesFinal,residualCurve(anglesFinal, *popt1),label=\"Fit\")\n",
    "\n",
    "# axs[1].plot(angles,(ratios[i]-fitRatio)/ratios[i],label=\"Residual\")\n",
    "axs[2].set_xlabel(\"Angle\")\n",
    "axs[0].set_ylabel(\"alpha\")\n",
    "axs[1].set_ylabel(\"beta\")\n",
    "axs[2].set_ylabel(\"Residual\")\n",
    "axs[0].legend()\n",
    "axs[1].legend()\n",
    "axs[2].legend()\n",
    "fig.tight_layout()\n",
    "fig.savefig(\"figure/AlphaBeta.jpg\",dpi=1000)\n",
    "plt.close()\n",
    "\n",
    "result=[str(popt1[i])+\"±\"+str(npy.sqrt(pcov1[i,i])) for i in range(len(popt1))]\n",
    "\n",
    "print(\"(Ps, As, tanPsi, cosDelta, eta)\",result)\n",
    "print(\"n=\"+str(refractionRate(popt1[2],popt1[3])))"
   ]
  },
  {
   "cell_type": "code",
   "execution_count": 77,
   "metadata": {},
   "outputs": [
    {
     "data": {
      "text/plain": [
       "([1, 1], [2, 2])"
      ]
     },
     "execution_count": 77,
     "metadata": {},
     "output_type": "execute_result"
    }
   ],
   "source": [
    "([1,1],[2,2])"
   ]
  }
 ],
 "metadata": {
  "interpreter": {
   "hash": "d5c6095bff222ff9471ebd2aa4415b2b954bd4aaa025c1fc5586f3b2bb4f0c2e"
  },
  "kernelspec": {
   "display_name": "Python 3.8.10 64-bit",
   "language": "python",
   "name": "python3"
  },
  "language_info": {
   "codemirror_mode": {
    "name": "ipython",
    "version": 3
   },
   "file_extension": ".py",
   "mimetype": "text/x-python",
   "name": "python",
   "nbconvert_exporter": "python",
   "pygments_lexer": "ipython3",
   "version": "3.8.10"
  },
  "orig_nbformat": 4
 },
 "nbformat": 4,
 "nbformat_minor": 2
}
