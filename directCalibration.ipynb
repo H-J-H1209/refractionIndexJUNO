{
 "cells": [
  {
   "cell_type": "markdown",
   "metadata": {},
   "source": [
    "# Direct Calibration"
   ]
  },
  {
   "cell_type": "code",
   "execution_count": 1,
   "metadata": {},
   "outputs": [
    {
     "name": "stdout",
     "output_type": "stream",
     "text": [
      "Ps=2.2277858560108457±0.0038246903871428945\n",
      "As=2.354011226435882±0.003199845590851369\n",
      "Ps=2.225087278090779±0.003585120818196608\n",
      "As=2.3220409447897117±0.0035016820664099447\n"
     ]
    }
   ],
   "source": [
    "import numpy as npy\n",
    "import scipy.optimize as opt\n",
    "import matplotlib.pyplot as plt\n",
    "\n",
    "class currentProfile:\n",
    "    def __init__(self, label):\n",
    "        self.label=label\n",
    "        self.current=[]\n",
    "\n",
    "def dataReader(filename, label):\n",
    "    inputfile=open(filename,'r')\n",
    "    outputData=currentProfile(label)\n",
    "    currentData=[]\n",
    "    while(1):\n",
    "        try:\n",
    "            temp=next(inputfile).split()\n",
    "            if(len(temp)==5 and temp[4]==str(label)):\n",
    "                outputData.current.append(1e6*float(temp[2]))\n",
    "        except StopIteration:\n",
    "            outputData.current=npy.array(outputData.current)\n",
    "            break\n",
    "    return outputData\n",
    "\n",
    "def fitFunc(time, gamma, omega, phi):\n",
    "    return gamma*npy.cos(omega*time-phi)**2\n",
    "\n",
    "labels=[\"p0\",\"p1\",\"as0\",\"as1\"]\n",
    "measurements=[]\n",
    "monitors=[]\n",
    "ratios=[]\n",
    "fitParameters=[]\n",
    "fitParametersCOV=[]\n",
    "minLength=365\n",
    "\n",
    "dark=dataReader(\"dataDirectCali/measurement_dark.txt\",\"dark\")\n",
    "for i in range(len(labels)):\n",
    "    measurements.append(dataReader(\"dataDirectCali/measurement.txt\",labels[i]))\n",
    "    monitors.append(dataReader(\"dataDirectCali/monitor.txt\",labels[i]))\n",
    "    ratios.append((measurements[i].current[:minLength]-npy.average(dark.current))/monitors[i].current[:minLength])\n",
    "    time=npy.array([0.5*j for j in range(minLength)])\n",
    "    popt,pcov=opt.curve_fit(fitFunc, time, ratios[i], p0=[15,0.01,1])\n",
    "    fitParameters.append(popt)\n",
    "    fitParametersCOV.append(pcov)\n",
    "    fitRatio=fitFunc(time,*popt)\n",
    "    fig,axs=plt.subplots(2,1)\n",
    "    axs[0].plot(time,ratios[i],label=\"Intensity\")\n",
    "    axs[0].plot(time,fitRatio,label=\"Fitted\")\n",
    "    axs[1].plot(time,(ratios[i]-fitRatio)/ratios[i],label=\"Residual\")\n",
    "    axs[1].set_xlabel(\"Time (s)\")\n",
    "    axs[0].set_ylabel(\"Intensity\")\n",
    "    axs[1].set_ylabel(\"Residual\")\n",
    "    axs[0].legend()\n",
    "    axs[1].legend()\n",
    "    fig.tight_layout()\n",
    "    fig.savefig(\"figure/RatioVsTimeDirectCali\"+str(i)+\"WithDarkdegree.jpg\", dpi=1000)\n",
    "    plt.close()\n",
    "    \n",
    "print(\"Ps=\"+str(fitParameters[0][2])+\"±\"+str(npy.sqrt(fitParametersCOV[0][2,2])))\n",
    "print(\"As=\"+str(fitParameters[2][2])+\"±\"+str(npy.sqrt(fitParametersCOV[2][2,2])))\n",
    "\n",
    "print(\"Ps=\"+str(fitParameters[1][2])+\"±\"+str(npy.sqrt(fitParametersCOV[1][2,2])))\n",
    "print(\"As=\"+str(fitParameters[3][2])+\"±\"+str(npy.sqrt(fitParametersCOV[3][2,2])))"
   ]
  }
 ],
 "metadata": {
  "interpreter": {
   "hash": "8c86e0497531fe4f7068ef39ecd2c436871694efe7421fa79afd0d4156a8fb94"
  },
  "kernelspec": {
   "display_name": "Python 3.10.4 64-bit",
   "language": "python",
   "name": "python3"
  },
  "language_info": {
   "codemirror_mode": {
    "name": "ipython",
    "version": 3
   },
   "file_extension": ".py",
   "mimetype": "text/x-python",
   "name": "python",
   "nbconvert_exporter": "python",
   "pygments_lexer": "ipython3",
   "version": "3.10.4"
  },
  "orig_nbformat": 4
 },
 "nbformat": 4,
 "nbformat_minor": 2
}
