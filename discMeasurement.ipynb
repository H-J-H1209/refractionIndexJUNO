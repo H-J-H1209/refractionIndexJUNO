{
 "cells": [
  {
   "cell_type": "code",
   "execution_count": 137,
   "metadata": {},
   "outputs": [],
   "source": [
    "# Calibration with Fit\n",
    "import numpy as npy\n",
    "import scipy.optimize as opt\n",
    "import matplotlib.pyplot as plt\n",
    "\n",
    "class currentProfile:\n",
    "    def __init__(self, label):\n",
    "        self.label=str(label)\n",
    "        self.current=[]\n",
    "\n",
    "def dataReader(filename, label):\n",
    "    inputfile=open(filename,'r')\n",
    "    outputData=currentProfile(label)\n",
    "    currentData=[]\n",
    "    while(1):\n",
    "        try:\n",
    "            temp=next(inputfile).split()\n",
    "            if (temp[4] == \"test\"):\n",
    "                continue\n",
    "            if((isinstance(label, str) and temp[4]==str(label)) or (isinstance(label, float) and not temp[4]==\"dark\" and float(temp[4])==label)):\n",
    "                outputData.current.append(1e6*float(temp[2]))\n",
    "        except StopIteration:\n",
    "            outputData.current=npy.array(outputData.current)\n",
    "            break\n",
    "    return outputData\n",
    "\n",
    "def fitFunc(time, omega, gamma, tanPsi, cosDelta):\n",
    "    # 47 deg\n",
    "    Ps=-0.060052071038013966+0.8203047484373349\n",
    "    # 46 deg\n",
    "    # Ps=-0.060052071038013966+0.8028514559173915\n",
    "    As=-0.030955717123416913\n",
    "    eta=1.1368132418974821\n",
    "    # eta=1.4\n",
    "    f0=npy.cos(Ps)**2 * tanPsi**2 +  npy.sin(Ps)**2\n",
    "    f1=npy.cos(Ps)**2 * tanPsi**2 -  npy.sin(Ps)**2\n",
    "    f2=npy.sin(2*Ps)*tanPsi*cosDelta\n",
    "    return gamma*(f0*eta+f1*npy.cos(2*(omega*time+As))+f2*npy.sin(2*(omega*time+As)))\n",
    "\n",
    "def alphaCurve(P, Ps, As, tanPsi, cosDelta, eta):\n",
    "    alphaReal = (tanPsi**2 - npy.tan(P-Ps)**2) / (tanPsi**2 + npy.tan(P-Ps)**2)\n",
    "    betaReal = (2 * tanPsi * cosDelta * npy.tan(P-Ps)) / \\\n",
    "        (tanPsi**2 + npy.tan(P-Ps)**2)\n",
    "    return (alphaReal*npy.cos(2*As)-betaReal*npy.sin(2*As))/eta\n",
    "\n",
    "\n",
    "def betaCurve(P, Ps, As, tanPsi, cosDelta, eta):\n",
    "    alphaReal = (tanPsi**2 - npy.tan(P-Ps)**2) / (tanPsi**2 + npy.tan(P-Ps)**2)\n",
    "    betaReal = (2 * tanPsi * cosDelta * npy.tan(P-Ps)) / \\\n",
    "        (tanPsi**2 + npy.tan(P-Ps)**2)\n",
    "    return (alphaReal*npy.sin(2*As)+betaReal*npy.cos(2*As))/eta\n",
    "\n",
    "\n",
    "def residualCurve(P, Ps, As, tanPsi, cosDelta, eta):\n",
    "    return 1-alphaCurve(P, Ps, As, tanPsi, cosDelta, eta)**2-betaCurve(P, Ps, As, tanPsi, cosDelta, eta)**2\n",
    "\n",
    "\n",
    "def fitCurve(P, Ps, As, tanPsi, cosDelta, eta):\n",
    "    length=int(len(P))\n",
    "    P=P[:length]\n",
    "    return residualCurve(P, Ps, As, tanPsi, cosDelta, eta)\n",
    "\n",
    "def fitCurve2(P, Ps, As, tanPsi, cosDelta, eta):\n",
    "    length=int(len(P)/2)\n",
    "    P=P[:length]\n",
    "    return npy.append(alphaCurve(P, Ps, As, tanPsi, cosDelta, eta), betaCurve(P, Ps, As, tanPsi, cosDelta, eta))\n",
    "\n",
    "def fitCurve3(P, Ps, As, tanPsi, cosDelta, eta):\n",
    "    length=int(len(P)/3)\n",
    "    P=P[:length]\n",
    "    return npy.append(alphaCurve(P, Ps, As, tanPsi, cosDelta, eta), npy.append(betaCurve(P, Ps, As, tanPsi, cosDelta, eta), residualCurve(P, Ps, As, tanPsi, cosDelta, eta)))\n",
    "\n",
    "def refractionRate(tanPsi, cosDelta):\n",
    "    rho = tanPsi*(cosDelta+1j*npy.sqrt(1-cosDelta**2))\n",
    "    iAngle=90-27.35\n",
    "    # iAngle=90-27.45 BEFORE\n",
    "    # LAB 0413 27.40 27.35 27.35\n",
    "    # LAB 27.45\n",
    "    # QUARTZ 27.16\n",
    "    return npy.sqrt(npy.sin(iAngle/180.0*npy.pi)**2*(1+(npy.tan(iAngle/180.0*npy.pi))**2*((1-rho)/(1+rho))**2))\n"
   ]
  },
  {
   "cell_type": "code",
   "execution_count": 138,
   "metadata": {},
   "outputs": [
    {
     "name": "stdout",
     "output_type": "stream",
     "text": [
      "['400t0', '400t1', '410t0', '410t1', '420t0', '420t1']\n"
     ]
    }
   ],
   "source": [
    "# index=[str(420+20*i)+\"t\"+str(j) for i in range(int((600-420)/20+1)) for j in range(4)]\n",
    "index=[str(400+10*i)+\"t\"+str(j) for i in range(int((420-400)/10+1)) for j in range(2)]\n",
    "print(index)\n",
    "# angle=\n",
    "length=len(index)\n",
    "measurements=[]\n",
    "monitors=[]\n",
    "\n",
    "for i in range(length):\n",
    "    measurements.append(dataReader(\"dataSi/0416Si/measurement.txt\",index[i]))\n",
    "    monitors.append(dataReader(\"dataSi/0416Si/monitor.txt\", index[i]))\n",
    "    # measurements.append(dataReader(\"dataLAB/0413lab/measurement400nm.txt\",index[i]))\n",
    "    # monitors.append(dataReader(\"dataLAB/0413lab/monitor400nm.txt\", index[i]))\n",
    "    # measurements.append(dataReader(\"dataLAB/measurement.txt\",index[i]))\n",
    "    # monitors.append(dataReader(\"dataLAB/monitor.txt\", index[i]))\n",
    "\n",
    "measurementDark=dataReader(\"dataQuartz/0410Quartz/measurement.txt\", \"dark\")\n",
    "monitorDark=dataReader(\"dataQuartz/0410Quartz/monitor.txt\", \"dark\")\n",
    "\n",
    "measurementDarkAverage=npy.mean(measurementDark.current)*1.1"
   ]
  },
  {
   "cell_type": "code",
   "execution_count": 139,
   "metadata": {},
   "outputs": [
    {
     "name": "stdout",
     "output_type": "stream",
     "text": [
      "0\n",
      "1\n",
      "2\n",
      "3\n",
      "4\n",
      "5\n"
     ]
    }
   ],
   "source": [
    "ratios=[]\n",
    "fitParameters=[]\n",
    "fitParametersCOV=[]\n",
    "\n",
    "# Data-taking 8s for single A\n",
    "anglesA=npy.array([float(10*i)/180*npy.pi for i in range(1,37)])\n",
    "# 6*36\n",
    "minLength=450\n",
    "period=12\n",
    "modification=0.27\n",
    "translate=2\n",
    "omit=1\n",
    "time=npy.array([0.5*j for j in range(minLength)])\n",
    "for i in range(length):\n",
    "    print(i)\n",
    "    ratios.append((measurements[i].current[:minLength]-measurementDarkAverage)/monitors[i].current[:minLength])\n",
    "    value=[]\n",
    "    fig,axs=plt.subplots(2,1)\n",
    "    # axs[0].plot(time, ratios[i],label=\"Data\")\n",
    "    for j in range(len(anglesA)):\n",
    "        value.append(npy.mean(ratios[i][translate+int((period+modification)*j):translate+int((period+modification)*(j+1))][omit:-omit]))\n",
    "        # value=[npy.mean(ratios[i][translate+int((period+modification)*j):translate+int((period+modification)*(j+1))][omit:-omit]) for k in range(len(time[translate+int((period+modification)*j):translate+int((period+modification)*(j+1))][omit:-omit]))]\n",
    "        # axs[0].plot(time[translate+int((period+modification)*j):translate+int((period+modification)*(j+1))][omit:-omit],value)\n",
    "  \n",
    "    # fitFunc(time, omega, gamma, tanPsi, cosDelta):\n",
    "    popt,pcov=opt.curve_fit(fitFunc, anglesA, value, p0=[1, 23,  0.5, 0.9], maxfev=1000000,bounds=([0.9,10,-1,0],[1.1,40,1,1]))\n",
    "    fitParameters.append(popt)\n",
    "    fitParametersCOV.append(pcov)\n",
    "    fitRatio=fitFunc(anglesA,*popt)\n",
    "    axs[0].plot(anglesA, value,label=\"Data\")\n",
    "    axs[0].plot(anglesA,fitRatio,label=\"Fitted\")\n",
    "    axs[1].plot(anglesA,(value-fitRatio)/value,\".\",label=\"Residual\")\n",
    "    axs[1].set_xlabel(\"Time (s)\")\n",
    "    axs[0].set_ylabel(\"Intensity\")\n",
    "    axs[1].set_ylabel(\"Residual\")\n",
    "    axs[0].legend()\n",
    "    axs[1].legend()\n",
    "    fig.tight_layout()\n",
    "    fig.savefig(\"figure/RatioVsAng\"+measurements[i].label+\".jpg\",dpi=300)\n",
    "    plt.close()\n",
    "# print(npy.mean(npy.array([fitParameters[i][2] for i in range(length)])))"
   ]
  },
  {
   "cell_type": "code",
   "execution_count": 140,
   "metadata": {},
   "outputs": [
    {
     "name": "stdout",
     "output_type": "stream",
     "text": [
      "400nm, n:5.4303  k:1.1021878442633502e-07\n",
      "410nm, n:5.1787  k:9.865954097375102e-08\n",
      "420nm, n:4.979  k:8.988114663608444e-08\n"
     ]
    }
   ],
   "source": [
    "nValues=[]\n",
    "label=[str(400+10*i) for i in range(int((420-400)/10+1))]\n",
    "for i in range(len(label)):\n",
    "    ni=[refractionRate(fitParameters[int(2*i+j)][2],fitParameters[int(2*i+j)][3]) for j in range(2)]\n",
    "    # nError=refractionRate(iPara[2],iPara[3])\n",
    "    print(str(label[i]) + \"nm, n:\"+str(round(npy.real(npy.mean(ni)),4))+ \"  k:\"+str(npy.imag(npy.mean(ni))))\n",
    "    nValues.append(npy.mean(ni))"
   ]
  },
  {
   "cell_type": "markdown",
   "metadata": {},
   "source": [
    "\n",
    "n=1.505274469962087 27.45\n",
    "\n",
    "n=1.5063188587617735 27.35"
   ]
  }
 ],
 "metadata": {
  "interpreter": {
   "hash": "8c86e0497531fe4f7068ef39ecd2c436871694efe7421fa79afd0d4156a8fb94"
  },
  "kernelspec": {
   "display_name": "Python 3.10.4 64-bit",
   "language": "python",
   "name": "python3"
  },
  "language_info": {
   "codemirror_mode": {
    "name": "ipython",
    "version": 3
   },
   "file_extension": ".py",
   "mimetype": "text/x-python",
   "name": "python",
   "nbconvert_exporter": "python",
   "pygments_lexer": "ipython3",
   "version": "3.10.4"
  },
  "orig_nbformat": 4
 },
 "nbformat": 4,
 "nbformat_minor": 2
}
