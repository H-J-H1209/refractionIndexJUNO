{
 "cells": [
  {
   "cell_type": "markdown",
   "metadata": {},
   "source": [
    "Ps:2.240132999853228±0.0029879179718950437\n",
    "\n",
    "As:2.3120285606032938±0.0029285851726167417"
   ]
  },
  {
   "cell_type": "code",
   "execution_count": 134,
   "metadata": {},
   "outputs": [],
   "source": [
    "import numpy as npy\n",
    "import scipy.optimize as opt\n",
    "import matplotlib.pyplot as plt\n",
    "\n",
    "class currentProfile:\n",
    "    def __init__(self, label):\n",
    "        self.label=label\n",
    "        self.current=[]\n",
    "\n",
    "def dataReader(filename, label):\n",
    "    inputfile=open(filename,'r')\n",
    "    outputData=currentProfile(label)\n",
    "    currentData=[]\n",
    "    while(1):\n",
    "        try:\n",
    "            temp=next(inputfile).split()\n",
    "            if(temp[4]==str(label)):\n",
    "                outputData.current.append(1e6*float(temp[2]))\n",
    "        except StopIteration:\n",
    "            outputData.current=npy.array(outputData.current)\n",
    "            break\n",
    "    return outputData\n",
    "\n",
    "def fitFunc(time, omega, gamma, tanPsi, cosDelta):\n",
    "    Ps=-2.240132999853228\n",
    "    As=2.3120285606032938\n",
    "    f0=npy.cos(Ps)**2 * tanPsi**2 +  npy.sin(Ps)**2\n",
    "    f1=npy.cos(Ps)**2 * tanPsi**2 -  npy.sin(Ps)**2\n",
    "    f2=npy.sin(2*Ps)*tanPsi*cosDelta\n",
    "    return gamma*(f0+f1*npy.cos(2*(omega*time-As))+f2*npy.sin(2*(omega*time-As)))\n",
    "\n",
    "def refractionRate(tanPsi, cosDelta):\n",
    "    rho = tanPsi*(cosDelta-1j*npy.sqrt(1-cosDelta**2))\n",
    "    return npy.sqrt(npy.sin(65.0/180.0*npy.pi)**2*(1+(npy.tan(65.0/180.0*npy.pi))**2*((1-rho)/(1+rho))**2))\n",
    " "
   ]
  },
  {
   "cell_type": "code",
   "execution_count": 135,
   "metadata": {},
   "outputs": [],
   "source": [
    "\n",
    "wavelengths=[205+10*i for i in range(int((295-205)/10+1))]\n",
    "wavelengths=wavelengths+[200+10*i for i in range(int((400-200)/10+1))]\n",
    "measurements=[]\n",
    "monitors=[]\n",
    "length=len(wavelengths)\n",
    "for i in range(length):\n",
    "    measurements.append(dataReader(\"dataLAB/measurement.txt\",wavelengths[i]))\n",
    "    monitors.append(dataReader(\"dataLAB/monitor.txt\",wavelengths[i]))\n",
    "\n",
    "darkCurrent=dataReader(\"dataLAB/measurement1.txt\",\"dark\")"
   ]
  },
  {
   "cell_type": "code",
   "execution_count": 136,
   "metadata": {},
   "outputs": [],
   "source": [
    "ratios=[]\n",
    "fitParameters=[]\n",
    "fitParametersCOV=[]\n",
    "minLength=360\n",
    "for i in range(length):\n",
    "    ratios.append((measurements[i].current[:minLength]-npy.average(darkCurrent.current))/monitors[i].current[:minLength])\n",
    "    time=npy.array([0.5*j for j in range(minLength)])\n",
    "    popt,pcov=opt.curve_fit(fitFunc, time, ratios[i], p0=[0.017, 2.5, 0.1, 0.99],maxfev=1000000)\n",
    "    fitParameters.append(popt)\n",
    "    fitParametersCOV.append(pcov)\n",
    "    fitRatio=fitFunc(time,*popt)\n",
    "    fig,axs=plt.subplots(2,1)\n",
    "    axs[0].plot(time,ratios[i],label=\"Intensity\")\n",
    "    axs[0].plot(time,fitRatio,label=\"Fitted\")\n",
    "    axs[1].plot(time,(ratios[i]-fitRatio)/ratios[i],label=\"Residual\")\n",
    "    axs[1].set_xlabel(\"Time (s)\")\n",
    "    axs[0].set_ylabel(\"Intensity\")\n",
    "    axs[1].set_ylabel(\"Residual\")\n",
    "    axs[0].legend()\n",
    "    axs[1].legend()\n",
    "    axs[0].set_title(str(measurements[i].label)+\"nm\")\n",
    "    fig.tight_layout()\n",
    "    fig.savefig(\"figure/RatioVsTime\"+str(measurements[i].label)+\"nm.jpg\",dpi=500)\n",
    "    plt.close()\n"
   ]
  },
  {
   "cell_type": "code",
   "execution_count": 140,
   "metadata": {},
   "outputs": [
    {
     "data": {
      "text/plain": [
       "Text(0.5, 0, 'Wavelengths')"
      ]
     },
     "execution_count": 140,
     "metadata": {},
     "output_type": "execute_result"
    },
    {
     "data": {
      "image/png": "[encoded data removed]",
      "text/plain": [
       "<Figure size 432x288 with 1 Axes>"
      ]
     },
     "metadata": {
      "needs_background": "light"
     },
     "output_type": "display_data"
    }
   ],
   "source": [
    "n=[npy.real(refractionRate(fitParameters[i][2],fitParameters[i][3])) for i in range(len(fitParameters))]\n",
    "k=[npy.imag(refractionRate(fitParameters[i][2],fitParameters[i][3])) for i in range(len(fitParameters))]\n",
    "# print([str(200+i*5)+\"nm;\"+str(fitParameters[i][2])+\" \"+str(fitParameters[i][3]) for i in range(len(fitParameters))])\n",
    "plt.plot(wavelengths, n, '.', label='n')\n",
    "plt.ylabel(\"n\")\n",
    "plt.legend()\n",
    "plt.xlabel(\"Wavelengths\")"
   ]
  }
 ],
 "metadata": {
  "interpreter": {
   "hash": "8c86e0497531fe4f7068ef39ecd2c436871694efe7421fa79afd0d4156a8fb94"
  },
  "kernelspec": {
   "display_name": "Python 3.10.4 64-bit",
   "language": "python",
   "name": "python3"
  },
  "language_info": {
   "codemirror_mode": {
    "name": "ipython",
    "version": 3
   },
   "file_extension": ".py",
   "mimetype": "text/x-python",
   "name": "python",
   "nbconvert_exporter": "python",
   "pygments_lexer": "ipython3",
   "version": "3.10.4"
  },
  "orig_nbformat": 4
 },
 "nbformat": 4,
 "nbformat_minor": 2
}
