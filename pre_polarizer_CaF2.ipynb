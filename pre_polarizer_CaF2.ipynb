{
 "cells": [
  {
   "cell_type": "markdown",
   "metadata": {},
   "source": [
    "* 估计不同波长起偏器检偏器垂直通光轴方向的漏光率。"
   ]
  },
  {
   "cell_type": "code",
   "execution_count": 3,
   "metadata": {},
   "outputs": [],
   "source": [
    "\n",
    "from cProfile import label\n",
    "from cmath import pi\n",
    "from numpy import tan, sin, sqrt,cos,arctan,arcsin,array\n",
    "import matplotlib.pyplot as plt\n",
    "from scipy.optimize import curve_fit\n",
    "import numpy as npy\n",
    "from scipy.signal import savgol_filter\n",
    "plt.style.use(['science'])"
   ]
  },
  {
   "cell_type": "markdown",
   "metadata": {},
   "source": [
    "* CaF2 的折射率：\n",
    "\n",
    "| 波长 | 150 | 200 | 300 | 400 | 500 |600|\n",
    "|---|---|---|---|---|---|---|\n",
    "|折射率|1.5817|1.4954|1.454|1.4418|1.4364|1.4335|\n",
    "* 起偏器的入射角 54 Deg."
   ]
  },
  {
   "cell_type": "code",
   "execution_count": 17,
   "metadata": {},
   "outputs": [
    {
     "name": "stdout",
     "output_type": "stream",
     "text": [
      "wavelenth                  [150 200 300 400 500 600]\n",
      "refractive index of CaF2   [1.5817 1.4954 1.454  1.4418 1.4364 1.4335]\n",
      "p-light intensity residual [0.95160626 0.98453556 0.99367669 0.99557    0.99629526 0.99665659]\n",
      "s-light intensity residual [0.00423654 0.01087579 0.01714798 0.01961391 0.02081594 0.02149161]\n"
     ]
    }
   ],
   "source": [
    "wavelength=npy.array([150,200,300,400,500,600])  #nm\n",
    "rindex=npy.array([1.5817,1.4954,1.454,1.4418,1.4364,1.4335])\n",
    "def cal_tp_ts(n1,i1,n2):\n",
    "    i2=arcsin(n1*sin(i1)/n2)\n",
    "    tp1=2*n1*cos(i1)/(n2*cos(i1)+n1*cos(i2))\n",
    "    ts1=2*n1*cos(i1)/(n1*cos(i1)+n2*cos(i2))\n",
    "    tp2=2*n2*cos(i2)/(n1*cos(i2)+n2*cos(i1))\n",
    "    ts2=2*n2*cos(i2)/(n2*cos(i2)+n1*cos(i1))\n",
    "    tp=tp1*tp2\n",
    "    ts=ts1*ts2\n",
    "    return tp,ts\n",
    "n1=array([1]*len(wavelength))\n",
    "i1=array([54/180*pi]*len(wavelength))\n",
    "\n",
    "tp,ts=cal_tp_ts(n1,i1,rindex)\n",
    "print('wavelenth                 ',wavelength)\n",
    "print('refractive index of CaF2  ',rindex)\n",
    "print('p-light intensity residual',tp**32)\n",
    "print('s-light intensity residual',ts**32)#16 组镜片，在加上电矢量的平方后，显示的是光强的比例。"
   ]
  }
 ],
 "metadata": {
  "interpreter": {
   "hash": "e489308f240930053fdc748a0151acbc65137e27fd86fc286e52f1f58ae69a29"
  },
  "kernelspec": {
   "display_name": "Python 3.9.2 64-bit",
   "language": "python",
   "name": "python3"
  },
  "language_info": {
   "codemirror_mode": {
    "name": "ipython",
    "version": 3
   },
   "file_extension": ".py",
   "mimetype": "text/x-python",
   "name": "python",
   "nbconvert_exporter": "python",
   "pygments_lexer": "ipython3",
   "version": "3.9.2"
  },
  "orig_nbformat": 4
 },
 "nbformat": 4,
 "nbformat_minor": 2
}
