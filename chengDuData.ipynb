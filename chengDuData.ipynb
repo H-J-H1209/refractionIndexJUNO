{
 "cells": [
  {
   "cell_type": "code",
   "execution_count": 1,
   "metadata": {},
   "outputs": [
    {
     "ename": "SyntaxError",
     "evalue": "invalid syntax (3980712043.py, line 12)",
     "output_type": "error",
     "traceback": [
      "\u001b[1;36m  Input \u001b[1;32mIn [1]\u001b[1;36m\u001b[0m\n\u001b[1;33m    [for i in range()]\u001b[0m\n\u001b[1;37m     ^\u001b[0m\n\u001b[1;31mSyntaxError\u001b[0m\u001b[1;31m:\u001b[0m invalid syntax\n"
     ]
    }
   ],
   "source": [
    "inputData=open(\"dataLAB/LAB_65degree_CurveData.csv\")\n",
    "\n",
    "print(next(inputData))\n",
    "def refractionRate(tanPsi, cosDelta):\n",
    "    rho = tanPsi*(cosDelta+1j*npy.sqrt(1-cosDelta**2))\n",
    "    return npy.sin(65.0/180.0*npy.pi)**2+(npy.cos(65.0/180.0*npy.pi)**2)*((1-rho)/(1+rho))**2\n"
   ]
  },
  {
   "cell_type": "code",
   "execution_count": null,
   "metadata": {},
   "outputs": [],
   "source": [
    "while(1):\n",
    "    try:\n",
    "        temp=next(inputData).split(sep=',')\n",
    "        if (len(temp)==5):\n",
    "            wavelengths.append(temp[0])\n",
    "        tempTanPsi=[temp[3*i+1] for i in range(len(temp)/3))]\n",
    "        for i in range(8):\n",
    "\n",
    "            tempTanPsi.append()\n",
    "            tempCosDelta.append()\n",
    "    except StopIteration:\n",
    "        break"
   ]
  }
 ],
 "metadata": {
  "interpreter": {
   "hash": "8c86e0497531fe4f7068ef39ecd2c436871694efe7421fa79afd0d4156a8fb94"
  },
  "kernelspec": {
   "display_name": "Python 3.10.4 64-bit",
   "language": "python",
   "name": "python3"
  },
  "language_info": {
   "codemirror_mode": {
    "name": "ipython",
    "version": 3
   },
   "file_extension": ".py",
   "mimetype": "text/x-python",
   "name": "python",
   "nbconvert_exporter": "python",
   "pygments_lexer": "ipython3",
   "version": "3.10.4"
  },
  "orig_nbformat": 4
 },
 "nbformat": 4,
 "nbformat_minor": 2
}
